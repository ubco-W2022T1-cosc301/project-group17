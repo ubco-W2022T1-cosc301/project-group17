{
 "cells": [
  {
   "cell_type": "markdown",
   "metadata": {
    "tags": []
   },
   "source": [
    "# Jason Kabatoff"
   ]
  },
  {
   "cell_type": "markdown",
   "metadata": {},
   "source": [
    "## Research question/interests\n",
    "\n",
    "My research interest is to understand how productivity, measured in output per work hour, changes in correlation with certain variables. The variables selected vary by year for annual working hours per worker, GDP per capita, population, and days of vacation in a variety of countries. By investigating these variables, we can determine whether less or more work hours tend to correlate with countries that have higher GDP per capita, but also how those work hours are associated with higher productivities. "
   ]
  }
 ],
 "metadata": {
  "kernelspec": {
   "display_name": "",
   "name": ""
  },
  "language_info": {
   "name": "plaintext"
  }
 },
 "nbformat": 4,
 "nbformat_minor": 4
}
