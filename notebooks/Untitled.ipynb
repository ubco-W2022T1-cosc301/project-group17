{
 "cells": [
  {
   "cell_type": "code",
   "execution_count": 1,
   "id": "d061f8a4-7749-4227-9c75-cbfda3bf0014",
   "metadata": {},
   "outputs": [],
   "source": [
    "import pandas as pd"
   ]
  },
  {
   "cell_type": "code",
   "execution_count": 2,
   "id": "bdde80af-b154-4fbf-8d85-fe4f94413ac5",
   "metadata": {},
   "outputs": [],
   "source": [
    "def clean_and_secure(pwt, vac):\n",
    "    '''\n",
    "    This method is specific for the penn world table csv and the vacation days csv. It takes the address of both as input with the order being specific.\n",
    "    '''\n",
    "    df_pwt = pd.read_csv(pwt, encoding='cp1251') #Penn-world table data\n",
    "    df_vac = pd.read_csv(vac) #Vacation days data\n",
    "    df_data = df_pwt[['country', 'year', 'pop', 'rgdpe', 'avh']].dropna()\n",
    "    df = (\n",
    "        pd.merge(df_data[df_data['country'].isin(['Australia', 'Belgium', 'Canada', 'Denmark', 'France',\n",
    "                                                  'Germany', 'Ireland', 'Italy', 'Netherlands', 'Spain','Sweden', 'Switzerland',\n",
    "                                                  'United Kingdom', 'United States'])], \n",
    "                 df_vac.rename(columns = {'Year': 'year', 'Entity': 'country'}), \n",
    "                 how='left', \n",
    "                 on = ['country', 'year'])\n",
    "        .fillna(method='ffill')\n",
    "        .dropna()\n",
    "        .rename(columns={'Days of vacation and holidays for full-time production workers in non-agricultural activities (Huberman & Minns 2007)': 'vacation days'})\n",
    "    )\n",
    "    \n",
    "    df['gdp per capita'] = df['rgdpe']/df['pop']\n",
    "    df['productivity'] = df['gdp per capita']/df['avh']\n",
    "    df = df[['country', 'year', 'pop', 'avh', 'rgdpe', 'gdp per capita', 'vacation days', 'productivity']]\n",
    "    \n",
    "    return df"
   ]
  },
  {
   "cell_type": "code",
   "execution_count": null,
   "id": "37e80f95-2538-4437-be31-623790c1fba2",
   "metadata": {},
   "outputs": [],
   "source": []
  },
  {
   "cell_type": "code",
   "execution_count": null,
   "id": "e02a0fda-e46e-4dea-ba2a-bc25fd9a8160",
   "metadata": {},
   "outputs": [],
   "source": []
  }
 ],
 "metadata": {
  "kernelspec": {
   "display_name": "Python 3 (ipykernel)",
   "language": "python",
   "name": "python3"
  },
  "language_info": {
   "codemirror_mode": {
    "name": "ipython",
    "version": 3
   },
   "file_extension": ".py",
   "mimetype": "text/x-python",
   "name": "python",
   "nbconvert_exporter": "python",
   "pygments_lexer": "ipython3",
   "version": "3.9.12"
  }
 },
 "nbformat": 4,
 "nbformat_minor": 5
}
